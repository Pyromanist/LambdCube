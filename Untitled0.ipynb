{
  "nbformat": 4,
  "nbformat_minor": 0,
  "metadata": {
    "colab": {
      "name": "Untitled0.ipynb",
      "provenance": [],
      "history_visible": true,
      "authorship_tag": "ABX9TyNxjKUFsgy+8Pe/588kZXoj",
      "include_colab_link": true
    },
    "kernelspec": {
      "name": "python3",
      "display_name": "Python 3"
    }
  },
  "cells": [
    {
      "cell_type": "markdown",
      "metadata": {
        "id": "view-in-github",
        "colab_type": "text"
      },
      "source": [
        "<a href=\"https://colab.research.google.com/github/Pyromanist/LambdCube/blob/master/Untitled0.ipynb\" target=\"_parent\"><img src=\"https://colab.research.google.com/assets/colab-badge.svg\" alt=\"Open In Colab\"/></a>"
      ]
    },
    {
      "cell_type": "code",
      "metadata": {
        "id": "syxwx4Hv_mXo",
        "colab_type": "code",
        "colab": {}
      },
      "source": [
        ""
      ],
      "execution_count": null,
      "outputs": []
    },
    {
      "cell_type": "code",
      "metadata": {
        "id": "U81hvIbW_kiN",
        "colab_type": "code",
        "colab": {
          "base_uri": "https://localhost:8080/",
          "height": 68
        },
        "cellView": "both",
        "outputId": "ac4dc3d0-3641-49d9-9432-ed10229aff97"
      },
      "source": [
        "#@title デフォルトのタイトル テキスト\n",
        "m=[1,2,3]\n",
        "n=[4,5,6]\n",
        "\n",
        "l=list(map(lambda x,y:x*y,m,n))\n",
        "print(l)\n",
        "print(sum(l))\n",
        "print(max(l))"
      ],
      "execution_count": 1,
      "outputs": [
        {
          "output_type": "stream",
          "text": [
            "[4, 10, 18]\n",
            "32\n",
            "18\n"
          ],
          "name": "stdout"
        }
      ]
    }
  ]
}